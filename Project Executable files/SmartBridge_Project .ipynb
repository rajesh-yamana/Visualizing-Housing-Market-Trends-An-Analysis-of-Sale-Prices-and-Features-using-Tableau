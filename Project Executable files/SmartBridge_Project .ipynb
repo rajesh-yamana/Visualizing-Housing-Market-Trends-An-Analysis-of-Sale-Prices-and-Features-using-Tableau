{
  "nbformat": 4,
  "nbformat_minor": 0,
  "metadata": {
    "colab": {
      "provenance": []
    },
    "kernelspec": {
      "name": "python3",
      "display_name": "Python 3"
    },
    "language_info": {
      "name": "python"
    }
  },
  "cells": [
    {
      "cell_type": "code",
      "execution_count": 5,
      "metadata": {
        "colab": {
          "base_uri": "https://localhost:8080/"
        },
        "id": "0Rw1mlEs-Y1y",
        "outputId": "1ee951da-3e03-420e-ac2c-e3c74d8223aa"
      },
      "outputs": [
        {
          "output_type": "stream",
          "name": "stdout",
          "text": [
            "========== [MODULE 1: Dataset Overview] ==========\n",
            "\n",
            " Dataset Loaded Successfully!\n",
            " Total Records   : 21609\n",
            " Total Features  : 31\n",
            "\n",
            "Column Names:\n",
            "--------------------------------------------------\n",
            "• Sale_Price\n",
            "• No of Bedrooms\n",
            "• No of Bathrooms\n",
            "• Flat Area (in Sqft)\n",
            "• Lot Area (in Sqft)\n",
            "• No of Floors\n",
            "• No of Times Visited\n",
            "• Overall Grade\n",
            "• Area of the House from Basement (in Sqft)\n",
            "• Basement Area (in Sqft)\n",
            "• Age of House (in Years)\n",
            "• Latitude\n",
            "• Longitude\n",
            "• Living Area after Renovation (in Sqft)\n",
            "• Lot Area after Renovation (in Sqft)\n",
            "• Years Since Renovation\n",
            "• Condition_of_the_House_Excellent\n",
            "• Condition_of_the_House_Fair\n",
            "• Condition_of_the_House_Good\n",
            "• Condition_of_the_House_Okay\n",
            "• Ever_Renovated_Yes\n",
            "• Waterfront_View_Yes\n",
            "• Zipcode_Group_Zipcode_Group_1\n",
            "• Zipcode_Group_Zipcode_Group_2\n",
            "• Zipcode_Group_Zipcode_Group_3\n",
            "• Zipcode_Group_Zipcode_Group_4\n",
            "• Zipcode_Group_Zipcode_Group_5\n",
            "• Zipcode_Group_Zipcode_Group_6\n",
            "• Zipcode_Group_Zipcode_Group_7\n",
            "• Zipcode_Group_Zipcode_Group_8\n",
            "• Zipcode_Group_Zipcode_Group_9\n",
            "--------------------------------------------------\n",
            "\n",
            "Sample Records (Top 5 Rows):\n",
            "|   Sale_Price |   No of Bedrooms |   No of Bathrooms |   Flat Area (in Sqft) |   Lot Area (in Sqft) |   No of Floors |   No of Times Visited |   Overall Grade |   Area of the House from Basement (in Sqft) |   Basement Area (in Sqft) |   Age of House (in Years) |   Latitude |   Longitude |   Living Area after Renovation (in Sqft) |   Lot Area after Renovation (in Sqft) |   Years Since Renovation |   Condition_of_the_House_Excellent |   Condition_of_the_House_Fair |   Condition_of_the_House_Good |   Condition_of_the_House_Okay |   Ever_Renovated_Yes |   Waterfront_View_Yes |   Zipcode_Group_Zipcode_Group_1 |   Zipcode_Group_Zipcode_Group_2 |   Zipcode_Group_Zipcode_Group_3 |   Zipcode_Group_Zipcode_Group_4 |   Zipcode_Group_Zipcode_Group_5 |   Zipcode_Group_Zipcode_Group_6 |   Zipcode_Group_Zipcode_Group_7 |   Zipcode_Group_Zipcode_Group_8 |   Zipcode_Group_Zipcode_Group_9 |\n",
            "|-------------:|-----------------:|------------------:|----------------------:|---------------------:|---------------:|----------------------:|----------------:|--------------------------------------------:|--------------------------:|--------------------------:|-----------:|------------:|-----------------------------------------:|--------------------------------------:|-------------------------:|-----------------------------------:|------------------------------:|------------------------------:|------------------------------:|---------------------:|----------------------:|--------------------------------:|--------------------------------:|--------------------------------:|--------------------------------:|--------------------------------:|--------------------------------:|--------------------------------:|--------------------------------:|--------------------------------:|\n",
            "|       221900 |                3 |              1    |                  1180 |                 5650 |              1 |                     0 |               7 |                                        1180 |                         0 |                        63 |    47.5112 |    -122.257 |                                     1340 |                                  5650 |                        0 |                                  0 |                             1 |                             0 |                             0 |                    0 |                     0 |                               0 |                               0 |                               0 |                               0 |                               0 |                               0 |                               0 |                               0 |                               0 |\n",
            "|       538000 |                3 |              2.25 |                  2570 |                 7242 |              2 |                     0 |               7 |                                        2170 |                       400 |                        67 |    47.721  |    -122.319 |                                     1690 |                                  7639 |                       26 |                                  0 |                             1 |                             0 |                             0 |                    1 |                     0 |                               0 |                               1 |                               0 |                               0 |                               0 |                               0 |                               0 |                               0 |                               0 |\n",
            "|       180000 |                2 |              1    |                   770 |                10000 |              1 |                     0 |               6 |                                         770 |                         0 |                        85 |    47.7379 |    -122.233 |                                     2720 |                                  8062 |                        0 |                                  0 |                             1 |                             0 |                             0 |                    0 |                     0 |                               0 |                               1 |                               0 |                               0 |                               0 |                               0 |                               0 |                               0 |                               0 |\n",
            "|       604000 |                4 |              3    |                  1960 |                 5000 |              1 |                     0 |               7 |                                        1050 |                       910 |                        53 |    47.5208 |    -122.393 |                                     1360 |                                  5000 |                        0 |                                  1 |                             0 |                             0 |                             0 |                    0 |                     0 |                               0 |                               0 |                               1 |                               0 |                               0 |                               0 |                               0 |                               0 |                               0 |\n",
            "|       510000 |                3 |              2    |                  1680 |                 8080 |              1 |                     0 |               8 |                                        1680 |                         0 |                        31 |    47.6168 |    -122.045 |                                     1800 |                                  7503 |                        0 |                                  0 |                             1 |                             0 |                             0 |                    0 |                     0 |                               0 |                               0 |                               0 |                               1 |                               0 |                               0 |                               0 |                               0 |                               0 |\n"
          ]
        }
      ],
      "source": [
        "#Loading the Dataset & Inspect Structure\n",
        "import pandas as pd\n",
        "df = pd.read_csv('Dataset.csv')\n",
        "print(\"========== [MODULE 1: Dataset Overview] ==========\\n\")\n",
        "print(f\" Dataset Loaded Successfully!\")\n",
        "print(f\" Total Records   : {df.shape[0]}\")\n",
        "print(f\" Total Features  : {df.shape[1]}\\n\")\n",
        "print(\"Column Names:\")\n",
        "print(\"-\" * 50)\n",
        "for col in df.columns:\n",
        "    print(f\"• {col}\")\n",
        "print(\"-\" * 50)\n",
        "\n",
        "print(\"\\nSample Records (Top 5 Rows):\")\n",
        "print(df.head().to_markdown(index=False))\n"
      ]
    },
    {
      "cell_type": "code",
      "source": [
        "# Removing Duplicates\n",
        "before = df.shape[0]\n",
        "df = df.drop_duplicates()\n",
        "after = df.shape[0]\n",
        "\n",
        "print(\"\\n========== [MODULE 2: Duplicate Removal] ==========\")\n",
        "print(f\" Rows Before Duplicate Removal : {before}\")\n",
        "print(f\" Duplicates Removed            : {before - after}\")\n",
        "print(f\" Rows After Duplicate Removal  : {after}\")\n"
      ],
      "metadata": {
        "colab": {
          "base_uri": "https://localhost:8080/"
        },
        "id": "uuk3cHlQ-uGu",
        "outputId": "498f1dd8-fffb-4c8e-bb45-172ba9646e17"
      },
      "execution_count": 6,
      "outputs": [
        {
          "output_type": "stream",
          "name": "stdout",
          "text": [
            "\n",
            "========== [MODULE 2: Duplicate Removal] ==========\n",
            " Rows Before Duplicate Removal : 21609\n",
            " Duplicates Removed            : 11\n",
            " Rows After Duplicate Removal  : 21598\n"
          ]
        }
      ]
    },
    {
      "cell_type": "code",
      "source": [
        "# Checking Missing Values\n",
        "missing = df.isnull().sum()\n",
        "missing = missing[missing > 0]\n",
        "\n",
        "print(\"\\n========== [MODULE 3: Missing Value Check] ==========\")\n",
        "if not missing.empty:\n",
        "    print(\"❗ Missing Values Found:\\n\")\n",
        "    print(missing.to_frame(name='Missing Count').to_markdown())\n",
        "else:\n",
        "    print(\"✅ No Missing Values Detected!\")"
      ],
      "metadata": {
        "colab": {
          "base_uri": "https://localhost:8080/"
        },
        "id": "PqtTT5my-wIm",
        "outputId": "945d7d93-cab4-4495-c991-d5982ac66f6d"
      },
      "execution_count": 12,
      "outputs": [
        {
          "output_type": "stream",
          "name": "stdout",
          "text": [
            "\n",
            "========== [MODULE 3: Missing Value Check] ==========\n",
            "❗ Missing Values Found:\n",
            "\n",
            "|                 |   Missing Count |\n",
            "|:----------------|----------------:|\n",
            "| House Age Group |            1242 |\n"
          ]
        }
      ]
    },
    {
      "cell_type": "code",
      "source": [
        "#Detecting and Remove Outliers\n",
        "print(\"\\n========== [MODULE 4: Outlier Detection] ==========\")\n",
        "print(f\" Max Bedrooms       : {df['No of Bedrooms'].max()}\")\n",
        "print(f\" Max Bathrooms      : {df['No of Bathrooms'].max()}\")\n",
        "print(f\" Min Flat Area (sqft): {df['Flat Area (in Sqft)'].min()}\\n\")\n",
        "\n",
        "# Remove unreasonable outliers\n",
        "df = df[(df['No of Bedrooms'] <= 10) &\n",
        "        (df['No of Bathrooms'] <= 6) &\n",
        "        (df['Flat Area (in Sqft)'] >= 300)]\n",
        "\n",
        "print(\"✅ Outlier Records Removed Based On:\")\n",
        "print(\"   • Bedrooms > 10\")\n",
        "print(\"   • Bathrooms > 6\")\n",
        "print(\"   • Flat Area < 300 sqft\")\n",
        "print(f\"\\n📊 Remaining Rows After Cleaning: {df.shape[0]}\")"
      ],
      "metadata": {
        "colab": {
          "base_uri": "https://localhost:8080/"
        },
        "id": "LusczS-QEHB1",
        "outputId": "00b64257-e782-4085-c748-b8d75412cb81"
      },
      "execution_count": 11,
      "outputs": [
        {
          "output_type": "stream",
          "name": "stdout",
          "text": [
            "\n",
            "========== [MODULE 4: Outlier Detection] ==========\n",
            " Max Bedrooms       : 10\n",
            " Max Bathrooms      : 6.0\n",
            " Min Flat Area (sqft): 370\n",
            "\n",
            "✅ Outlier Records Removed Based On:\n",
            "   • Bedrooms > 10\n",
            "   • Bathrooms > 6\n",
            "   • Flat Area < 300 sqft\n",
            "\n",
            "📊 Remaining Rows After Cleaning: 21585\n"
          ]
        }
      ]
    },
    {
      "cell_type": "code",
      "source": [
        "# Feature Engineering\n",
        "df['Total Area (in Sqft)'] = df['Flat Area (in Sqft)'] + df['Basement Area (in Sqft)']\n",
        "df['House Age Group'] = pd.cut(df['Age of House (in Years)'],\n",
        "                               bins=[0, 10, 20, 30, 40, 100],\n",
        "                               labels=['0-10', '11-20', '21-30', '31-40', '40+'])\n",
        "\n",
        "print(\"\\n========== [MODULE 5: Feature Engineering] ==========\")\n",
        "print(\"🆕 New Features Added:\")\n",
        "print(\"   • Total Area (in Sqft)\")\n",
        "print(\"   • House Age Group\\n\")\n",
        "\n",
        "print(\"Sample View of Engineered Features:\\n\")\n",
        "print(df[['Flat Area (in Sqft)', 'Basement Area (in Sqft)',\n",
        "          'Total Area (in Sqft)', 'Age of House (in Years)',\n",
        "          'House Age Group']].head().to_markdown(index=False))\n"
      ],
      "metadata": {
        "colab": {
          "base_uri": "https://localhost:8080/"
        },
        "id": "Wgv4Mv-I-3NO",
        "outputId": "6a9a98e8-1a91-45dc-9f4e-118eee59f868"
      },
      "execution_count": 13,
      "outputs": [
        {
          "output_type": "stream",
          "name": "stdout",
          "text": [
            "\n",
            "========== [MODULE 5: Feature Engineering] ==========\n",
            "🆕 New Features Added:\n",
            "   • Total Area (in Sqft)\n",
            "   • House Age Group\n",
            "\n",
            "Sample View of Engineered Features:\n",
            "\n",
            "|   Flat Area (in Sqft) |   Basement Area (in Sqft) |   Total Area (in Sqft) |   Age of House (in Years) | House Age Group   |\n",
            "|----------------------:|--------------------------:|-----------------------:|--------------------------:|:------------------|\n",
            "|                  1180 |                         0 |                   1180 |                        63 | 40+               |\n",
            "|                  2570 |                       400 |                   2970 |                        67 | 40+               |\n",
            "|                   770 |                         0 |                    770 |                        85 | 40+               |\n",
            "|                  1960 |                       910 |                   2870 |                        53 | 40+               |\n",
            "|                  1680 |                         0 |                   1680 |                        31 | 31-40             |\n"
          ]
        }
      ]
    },
    {
      "cell_type": "code",
      "source": [
        "# Saving Cleaned Data\n",
        "df.to_csv(\"Cleaned_Dataset.csv\", index=False)\n",
        "\n",
        "print(\"\\n========== [MODULE 6: Save Cleaned Dataset] ==========\")\n",
        "print(\"💾 Cleaned dataset successfully saved as Processed_Dataset.csv\")"
      ],
      "metadata": {
        "colab": {
          "base_uri": "https://localhost:8080/"
        },
        "id": "8F7uVFVVE9DQ",
        "outputId": "b86c069c-9349-48ba-9a7e-cb7af56b933b"
      },
      "execution_count": 14,
      "outputs": [
        {
          "output_type": "stream",
          "name": "stdout",
          "text": [
            "\n",
            "========== [MODULE 6: Save Cleaned Dataset] ==========\n",
            "💾 Cleaned dataset successfully saved as Processed_Dataset.csv\n"
          ]
        }
      ]
    }
  ]
}